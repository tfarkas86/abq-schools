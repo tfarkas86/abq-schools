{
 "cells": [
  {
   "cell_type": "code",
   "execution_count": null,
   "metadata": {},
   "outputs": [],
   "source": [
    "import geopandas as gpd\n",
    "import pandas as pd\n",
    "import numpy as np"
   ]
  },
  {
   "attachments": {},
   "cell_type": "markdown",
   "metadata": {},
   "source": [
    "## Elementary Schools"
   ]
  },
  {
   "cell_type": "code",
   "execution_count": null,
   "metadata": {},
   "outputs": [],
   "source": [
    "aps_elem = gpd.read_file('../data/aps-boundaries/elem/')"
   ]
  },
  {
   "cell_type": "code",
   "execution_count": null,
   "metadata": {},
   "outputs": [],
   "source": [
    "schools_elem = np.sort(np.array(aps_elem.SCHOOLSERV))\n",
    "aps_elem_dict = {key: None for key in schools_elem}\n",
    "aps_elem_dict.keys()"
   ]
  },
  {
   "cell_type": "code",
   "execution_count": null,
   "metadata": {},
   "outputs": [],
   "source": [
    "elem_scores = [[7, 5, 6], [1, 4, 2], [3, 4, 3], [1, 4, 1], [7, 6, 3], [3, 4, 3], [2, 5, 2], [3, 4, 3], [2, 5, 2], # A-Montoya to Armijo\n",
    "[8, 6, 7], [2, -9, 2], [8, 6, 5], [2, -9, 2], [1, -9, 1], [4, 3, 4],   [2, 5, 2], [6, 6, 4], [4, 5, 5], [3, 4, 3], # Arroyo Del Oso to Chelwood\n",
    "[2, 4, 3], [6, 7, 6],  [6, 6, 3], [9, 7, 8],  [5, 4, 5],  [10, 8, 10], [2, -9, 2], [3, 4, 3], [1, 3, 1], [5, 5, 3], # Cochiti to EG Ross\n",
    "[2, 3, 2], [2, 3, 3],  [2, 5, 2], [10, 8, 9], [2, 4, 2],  [7, 8, 6],   [3, 5, 2], [-9, -9, -9], [2, 3, 2], [10, 9, 10], # Emerson to Hubert Humphrey\n",
    "[6, 6, 5], [3, 4, 3],  [8, 6, 6], [6, 4, 6], [1, 4, 2], [5, 5, 7], [2, 5, 3], [2, 4, 2], [4, 6, 4], [3, 3, 4], # Inez to Longfellow\n",
    "[3, 7, 4], [3, 4, 3],  [1, 4, 1], [6, 6, 6], [7, 6, 5], [3, 3, 2], [4, 4, 4], [2, 4, 2], [3, 4, 3], [4, 4, 3],  # Los Padillas to McCollum\n",
    "[3, 5, 4], [4, -9, 3], [8, 7, 5], [2, 3, 2], [3, 3, 3], [1, 4, 1],  [10, 8, 9], [9, 7, 7], [8, 7, 7], [3, 4, 3],  # Mission Ave to Painted Sky\n",
    "[2, 3, 2], [8, 6, 6], [2, -9, 2], [2, 4, 1], [10, 9, 8], [7, 6, 5], [5, 6, 4], [6, 5, 5], [5, 6, 5], [7, 6, 5], # Pajarito to Sunset View\n",
    "[2, 5, 3], [10, 9, 10], [8, 8, 8], [4, 5, 5], [5, -9, -9], [1, 3, 2], [8, 7, 7], [1, -9, 1], [2, 6, 2], # Susie Rayos Marmon to Whittier\n",
    "[7, 6, 3], [4, 5, 3]] # Zia to Zuni\n",
    "\n",
    "for i, key in enumerate(list(aps_elem_dict.keys())):\n",
    "    aps_elem_dict[key] = elem_scores[i]\n",
    "aps_elem_dict"
   ]
  },
  {
   "cell_type": "code",
   "execution_count": null,
   "metadata": {},
   "outputs": [],
   "source": [
    "pd.concat([pd.DataFrame(list(aps_dict.keys())[0:6]), pd.DataFrame(np.vstack(list(aps_dict.values())[0:6]))], axis = 1)\n",
    "#pd.DataFrame(np.vstack(list(aps_dict.values())[0:6]))"
   ]
  },
  {
   "attachments": {},
   "cell_type": "markdown",
   "metadata": {},
   "source": [
    "## Middle Schools"
   ]
  },
  {
   "cell_type": "code",
   "execution_count": 78,
   "metadata": {},
   "outputs": [],
   "source": [
    "aps_mid = gpd.read_file('../data/aps-boundaries/middle/')"
   ]
  },
  {
   "cell_type": "code",
   "execution_count": 79,
   "metadata": {},
   "outputs": [
    {
     "data": {
      "text/plain": [
       "dict_keys(['CLEVELAND', 'DESERT RIDGE', 'EISENHOWER', 'ERNIE PYLE', 'G I SANCHEZ', 'GARFIELD', 'GRANT', 'HARRISON', 'HAYES', 'HOOVER', 'JACKSON', 'JAMES MONROE', 'JEFFERSON', 'JIMMY CARTER', 'JIMMY CARTER (8TH)/TRES VOLCANES CCC (6TH & 7TH)', 'JOHN ADAMS', 'KENNEDY', 'LBJ', 'MADISON', 'MCKINLEY', 'POLK', 'ROOSEVELT', 'TAFT', 'TAYLOR', 'TONY HILLERMAN', 'TRUMAN', 'VAN BUREN', 'WASHINGTON', 'WILSON'])"
      ]
     },
     "execution_count": 79,
     "metadata": {},
     "output_type": "execute_result"
    }
   ],
   "source": [
    "schools_mid = np.sort(np.array(aps_mid.SCHOOLSERV))\n",
    "aps_mid_dict = {key: None for key in schools_mid}\n",
    "aps_mid_dict.keys()"
   ]
  },
  {
   "cell_type": "code",
   "execution_count": 81,
   "metadata": {},
   "outputs": [
    {
     "data": {
      "text/plain": [
       "{'CLEVELAND': [5, 6, 4],\n",
       " 'DESERT RIDGE': [10, 8, 8],\n",
       " 'EISENHOWER': [10, 8, 8],\n",
       " 'ERNIE PYLE': [2, 4, 2],\n",
       " 'G I SANCHEZ': [2, 5, 2],\n",
       " 'GARFIELD': [2, 4, 2],\n",
       " 'GRANT': [4, 5, 5],\n",
       " 'HARRISON': [2, 6, 3],\n",
       " 'HAYES': [1, 4, 1],\n",
       " 'HOOVER': [6, 5, 4],\n",
       " 'JACKSON': [3, 5, 4],\n",
       " 'JAMES MONROE': [6, 6, 4],\n",
       " 'JEFFERSON': [5, 5, 2],\n",
       " 'JIMMY CARTER': [1, 3, 2],\n",
       " 'JIMMY CARTER (8TH)/TRES VOLCANES CCC (6TH & 7TH)': [-9, 5, -9],\n",
       " 'JOHN ADAMS': [3, 6, 3],\n",
       " 'KENNEDY': [2, 4, 2],\n",
       " 'LBJ': [6, 5, 5],\n",
       " 'MADISON': [7, 5, 5],\n",
       " 'MCKINLEY': [2, 5, 2],\n",
       " 'POLK': [1, 4, 2],\n",
       " 'ROOSEVELT': [8, 5, 7],\n",
       " 'TAFT': [4, 5, 3],\n",
       " 'TAYLOR': [5, 6, 3],\n",
       " 'TONY HILLERMAN': [7, 5, 5],\n",
       " 'TRUMAN': [2, 3, 2],\n",
       " 'VAN BUREN': [2, 4, 1],\n",
       " 'WASHINGTON': [3, 6, 3],\n",
       " 'WILSON': [2, 5, 1]}"
      ]
     },
     "execution_count": 81,
     "metadata": {},
     "output_type": "execute_result"
    }
   ],
   "source": [
    "mid_scores = [[5, 6, 4], [10, 8, 8], [10, 8, 8], [2, 4, 2], [2, 5, 2], [2, 4, 2], [4, 5, 5], [2, 6, 3], # Cleveland to Harrison\n",
    "[1, 4, 1], [6, 5, 4], [3, 5, 4], [6, 6, 4], [5, 5, 2], [1, 3, 2], [-9, 5, -9], [3, 6, 3], [2, 4, 2], [6, 5, 5], # Hayes to LBJ\n",
    "[7, 5, 5], [2, 5, 2], [1, 4, 2], [8, 5, 7], [4, 5, 3], [5, 6, 3], [7, 5, 5], [2, 3, 2], [2, 4, 1], [3, 6, 3], # Madison to Washington\n",
    "[2, 5, 1]]\n",
    "\n",
    "for i, key in enumerate(list(aps_mid_dict.keys())):\n",
    "    aps_mid_dict[key] = mid_scores[i]\n",
    "aps_mid_dict"
   ]
  },
  {
   "cell_type": "code",
   "execution_count": null,
   "metadata": {},
   "outputs": [],
   "source": [
    "pd.concat([pd.DataFrame(list(aps_dict.keys())[0:6]), pd.DataFrame(np.vstack(list(aps_dict.values())[0:6]))], axis = 1)\n",
    "#pd.DataFrame(np.vstack(list(aps_dict.values())[0:6]))"
   ]
  }
 ],
 "metadata": {
  "kernelspec": {
   "display_name": "abq-schools-4kHu_88R",
   "language": "python",
   "name": "python3"
  },
  "language_info": {
   "codemirror_mode": {
    "name": "ipython",
    "version": 3
   },
   "file_extension": ".py",
   "mimetype": "text/x-python",
   "name": "python",
   "nbconvert_exporter": "python",
   "pygments_lexer": "ipython3",
   "version": "3.11.1"
  },
  "orig_nbformat": 4,
  "vscode": {
   "interpreter": {
    "hash": "af4e2fe4963fd19759a9da11a70ae890522f2febfa0634f4e1f2b8783b743831"
   }
  }
 },
 "nbformat": 4,
 "nbformat_minor": 2
}
